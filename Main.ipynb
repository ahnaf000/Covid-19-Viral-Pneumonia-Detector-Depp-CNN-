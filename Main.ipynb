{
 "cells": [
  {
   "cell_type": "markdown",
   "id": "b2e90076",
   "metadata": {},
   "source": [
    "# COVID + VIRAL PNEUMONIA DETECTING CONVOLUTIONAL NEURAL NETWORK MODEL"
   ]
  },
  {
   "cell_type": "code",
   "execution_count": 197,
   "id": "fd868f09",
   "metadata": {},
   "outputs": [],
   "source": [
    "import warnings\n",
    "warnings.filterwarnings(\"ignore\")\n",
    "import os\n",
    "import numpy as np\n",
    "import matplotlib.image as mpimg\n",
    "import matplotlib.pyplot as plt\n",
    "from PIL import Image\n",
    "from sklearn.model_selection import train_test_split\n",
    "from keras.utils.np_utils import to_categorical\n",
    "from keras.models import Sequential\n",
    "from keras.layers import Dense, Dropout, Flatten, Conv2D, MaxPool2D\n",
    "from keras.optimizers import RMSprop,Adam\n",
    "from keras.preprocessing.image import ImageDataGenerator\n",
    "from keras.callbacks import ReduceLROnPlateau\n",
    "from keras.utils.np_utils import to_categorical \n",
    "import seaborn as sns\n",
    "from sklearn.metrics import confusion_matrix,accuracy_score, classification_report\n",
    "import pickle"
   ]
  },
  {
   "cell_type": "markdown",
   "id": "04e3e87b",
   "metadata": {},
   "source": [
    "In this project, I am building a CNN to classify images. Given the X-ray image of a patient, my CNN model will be able to predict whether the person has Covid, Viral Pneumonia, or a normal ( not Covid, or Viral pneumonia) X-ray report"
   ]
  },
  {
   "cell_type": "markdown",
   "id": "1fb37d4b",
   "metadata": {},
   "source": [
    "# Image Conversion"
   ]
  },
  {
   "cell_type": "markdown",
   "id": "626dcf56",
   "metadata": {},
   "source": [
    "I am going to use the following labels to classify the images:\n",
    "\n",
    "0. Normal\n",
    "1. Covid\n",
    "2. Viral Pneumonia"
   ]
  },
  {
   "cell_type": "code",
   "execution_count": 166,
   "id": "4d345851",
   "metadata": {},
   "outputs": [],
   "source": [
    "valid_image_types = [\".jpeg\",\".jpg\",\".gif\",\".png\",\".tga\"] # these are the image extensions my model initially recognizes "
   ]
  },
  {
   "cell_type": "markdown",
   "id": "40febc3e",
   "metadata": {},
   "source": [
    "### Converting all training images into .png file type and reshaping them\n",
    "Given a varity of image types, it is imprtant to convert them all under one single hood. Different image types are configured in different ways if we look at it from a lower level. \n",
    "\n",
    "I decided to choose .png as my image type, and given any size of image, the model will resize it to a shape of 450x450 pixels."
   ]
  },
  {
   "cell_type": "code",
   "execution_count": 167,
   "id": "f1d9b537",
   "metadata": {},
   "outputs": [
    {
     "name": "stdout",
     "output_type": "stream",
     "text": [
      "Done Processing Training Images\n"
     ]
    }
   ],
   "source": [
    "count=0 # Index of images\n",
    "\n",
    "path = \"Data/train/Covid\"\n",
    "for file in os.listdir(path):\n",
    "    img_type =  os.path.splitext(file)[1]\n",
    "    \n",
    "    if img_type in valid_image_types:\n",
    "        im = Image.open(os.path.join(path,file))\n",
    "        im = im.resize((450,450)) # reshaping the image\n",
    "        new_path = 'Data/newData/train2/'+str(count)+'.png'\n",
    "        im.save(new_path)\n",
    "        count+=1\n",
    "        \n",
    "path = \"Data/train/Normal\"\n",
    "for file in os.listdir(path):\n",
    "    img_type =  os.path.splitext(file)[1]\n",
    "    \n",
    "    if img_type in valid_image_types:\n",
    "        im = Image.open(os.path.join(path,file))\n",
    "        im = im.resize((450,450)) # reshaping the image\n",
    "        new_path = 'Data/newData/train2/'+str(count)+'.png'\n",
    "        im.save(new_path)\n",
    "        count+=1\n",
    "        \n",
    "path = \"Data/train/Viral Pneumonia\"\n",
    "for file in os.listdir(path):\n",
    "    img_type =  os.path.splitext(file)[1]\n",
    "    \n",
    "    if img_type in valid_image_types:\n",
    "\n",
    "        im = Image.open(os.path.join(path,file))\n",
    "        im = im.resize((450,450)) # reshaping the image\n",
    "        new_path = 'Data/newData/train2/'+str(count)+'.png'\n",
    "        im.save(new_path)\n",
    "        count+=1\n",
    "        \n",
    "print(\"Done Processing Training Images\")"
   ]
  },
  {
   "cell_type": "markdown",
   "id": "da0702b5",
   "metadata": {},
   "source": [
    "### Converting all testing images into .png file type and reshaping them"
   ]
  },
  {
   "cell_type": "code",
   "execution_count": 168,
   "id": "198b5241",
   "metadata": {},
   "outputs": [
    {
     "name": "stdout",
     "output_type": "stream",
     "text": [
      "Done Processing Testing Images\n"
     ]
    }
   ],
   "source": [
    "count=0 # Index of images\n",
    "\n",
    "path = \"Data/test/Covid\"\n",
    "for file in os.listdir(path):\n",
    "    img_type =  os.path.splitext(file)[1]\n",
    "    \n",
    "    if img_type in valid_image_types:\n",
    "        im = Image.open(os.path.join(path,file))\n",
    "        im = im.resize((450,450)) # reshaping the image\n",
    "        new_path = 'Data/newData/test2/'+str(count)+'.png'\n",
    "        im.save(new_path)\n",
    "        count+=1\n",
    "        \n",
    "path = \"Data/test/Normal\"\n",
    "for file in os.listdir(path):\n",
    "    img_type =  os.path.splitext(file)[1]\n",
    "    \n",
    "    if img_type in valid_image_types:\n",
    "        im = Image.open(os.path.join(path,file))\n",
    "        im = im.resize((450,450)) # reshaping the image\n",
    "        new_path = 'Data/newData/test2/'+str(count)+'.png'\n",
    "        im.save(new_path)\n",
    "        count+=1\n",
    "        \n",
    "path = \"Data/test/Viral Pneumonia\"\n",
    "for file in os.listdir(path):\n",
    "    img_type =  os.path.splitext(file)[1]\n",
    "    \n",
    "    if img_type in valid_image_types:\n",
    "        im = Image.open(os.path.join(path,file))\n",
    "        im = im.resize((450,450)) # reshaping the image\n",
    "        new_path = 'Data/newData/test2/'+str(count)+'.png'\n",
    "        im.save(new_path)\n",
    "        count+=1\n",
    "        \n",
    "print(\"Done Processing Testing Images\")"
   ]
  },
  {
   "cell_type": "markdown",
   "id": "14775548",
   "metadata": {},
   "source": [
    "# Cleaning the Training Data\n",
    "Now, it is time to read the newly configured images and turning them into numpy arrays of pixel intensities. "
   ]
  },
  {
   "cell_type": "code",
   "execution_count": 177,
   "id": "f82f8401",
   "metadata": {},
   "outputs": [],
   "source": [
    "path = \"Data/newData/train2\" # src folder containing the images\n",
    "\n",
    "X_train = np.empty((251,450,450,1))\n",
    "training_data_labels_index = {}\n",
    "for i in range(0,111): training_data_labels_index[i] = 1\n",
    "for i in range(111,181): training_data_labels_index[i] = 0\n",
    "for i in range(181,251): training_data_labels_index[i] = 2\n",
    "    \n",
    "# Loading the images and converting them into pixels\n",
    "for img in os.listdir(path):\n",
    "    ori_img = mpimg.imread(os.path.join(path,img))\n",
    "    # Handling the pixel density\n",
    "    if ori_img.ndim == 2:\n",
    "        image = ori_img[:,:]\n",
    "    elif ori_img.ndim == 3:\n",
    "        image = ori_img[:,:,0]\n",
    "    else:\n",
    "        image = ori_img[:,:,:,0]\n",
    "        \n",
    "    '''mapping the image to it's corresponding label'''\n",
    "    ind = img.index(\".png\")\n",
    "    label = int(img[:ind])\n",
    "    X_train[label,:,:,:] = image.reshape((450,450,1)) # Adding to the training array\n",
    "\n",
    "y_train = np.empty((251,))\n",
    "y_train[0:111] = 1\n",
    "y_train[111:181] = 0\n",
    "y_train[181:251] = 2\n",
    "\n",
    "X_train, X_val, y_train, y_val = train_test_split(X_train, y_train, test_size=0.2, random_state=42)\n",
    "\n",
    "# Label Encoding \n",
    "y_train = to_categorical(y_train, num_classes = 3)\n",
    "y_val = to_categorical(y_val, num_classes = 3)"
   ]
  },
  {
   "cell_type": "markdown",
   "id": "2d8310a6",
   "metadata": {},
   "source": [
    "# Cleaning the Testing Data"
   ]
  },
  {
   "cell_type": "code",
   "execution_count": 178,
   "id": "0df27144",
   "metadata": {},
   "outputs": [],
   "source": [
    "path = \"Data/newData/test2\" # src folder containing the images\n",
    "\n",
    "X_test = np.empty((66,450,450,1))\n",
    "\n",
    "testing_data_labels_index = {}\n",
    "for i in range(0,26): testing_data_labels_index[i] = 1\n",
    "for i in range(26,46): testing_data_labels_index[i] = 0\n",
    "for i in range(46,66): testing_data_labels_index[i] = 2\n",
    "\n",
    "# Loading the images and converting them into pixels\n",
    "for img in os.listdir(path):\n",
    "    ori_img = mpimg.imread(os.path.join(path,img))\n",
    "    # Handling the pixel density\n",
    "    if ori_img.ndim == 2:\n",
    "        image = ori_img[:,:]\n",
    "    elif ori_img.ndim == 3:\n",
    "        image = ori_img[:,:,0]\n",
    "    else:\n",
    "        image = ori_img[:,:,:,0]\n",
    "        \n",
    "    '''mapping the image to it's corresponding label'''\n",
    "    ind = img.index(\".png\")\n",
    "    label = int(img[:ind])\n",
    "    X_test[label,:,:,:] = image.reshape((450,450,1)) # Adding to the training array\n",
    "    \n",
    "y_test = np.empty((66,))\n",
    "y_test[0:26] = 1\n",
    "y_test[26:46] = 0\n",
    "y_test[46:66] = 2\n",
    "# Label Encoding \n",
    "y_test = to_categorical(y_test, num_classes = 3)"
   ]
  },
  {
   "cell_type": "markdown",
   "id": "44bdb789",
   "metadata": {},
   "source": [
    "## Data Augmentation"
   ]
  },
  {
   "cell_type": "code",
   "execution_count": 179,
   "id": "f543b792",
   "metadata": {},
   "outputs": [],
   "source": [
    "datagen = ImageDataGenerator(\n",
    "        featurewise_center=False,  # set input mean to 0 over the dataset\n",
    "        samplewise_center=False,  # set each sample mean to 0\n",
    "        featurewise_std_normalization=False,  # divide inputs by std of the dataset\n",
    "        samplewise_std_normalization=False,  # divide each input by its std\n",
    "        zca_whitening=False,  # dimesion reduction\n",
    "        rotation_range=5,  # randomly rotate images in the range 5 degrees\n",
    "        zoom_range = 0.1, # Randomly zoom image 10%\n",
    "        width_shift_range=0.1,  # randomly shift images horizontally 10%\n",
    "        height_shift_range=0.1,  # randomly shift images vertically 10%\n",
    "        horizontal_flip=False,  # randomly flip images\n",
    "        vertical_flip=False)  # randomly flip images\n",
    "\n",
    "datagen.fit(X_train)"
   ]
  },
  {
   "cell_type": "markdown",
   "id": "b5a9123f",
   "metadata": {},
   "source": [
    "# Building the CNN model"
   ]
  },
  {
   "cell_type": "code",
   "execution_count": 180,
   "id": "60bf2518",
   "metadata": {},
   "outputs": [],
   "source": [
    "model = Sequential()\n",
    "model.add(Conv2D(filters = 8, kernel_size = (5,5),padding = 'Same', \n",
    "                 activation ='relu', input_shape = (450,450,1)))\n",
    "model.add(MaxPool2D(pool_size=(2,2)))\n",
    "model.add(Dropout(0.15))\n",
    "model.add(Conv2D(filters = 16, kernel_size = (3,3),padding = 'Same', \n",
    "                 activation ='relu'))\n",
    "model.add(MaxPool2D(pool_size=(2,2), strides=(2,2)))\n",
    "model.add(Dropout(0.15))\n",
    "model.add(Flatten())\n",
    "model.add(Dense(900, activation = \"relu\"))\n",
    "model.add(Dropout(0.5))\n",
    "model.add(Dense(3, activation = \"softmax\"))\n",
    "\n",
    "# Defining the optimizer\n",
    "optimizer = Adam(lr=0.001, beta_1=0.9, beta_2=0.999)\n",
    "optimizer=Adam()\n",
    "\n",
    "# Compiling the model\n",
    "model.compile(optimizer = optimizer , loss = \"categorical_crossentropy\", metrics=[\"accuracy\"])\n",
    "\n",
    "# Model Hyperparameters\n",
    "epochs = 50\n",
    "batch_size = 14"
   ]
  },
  {
   "cell_type": "markdown",
   "id": "45507f4f",
   "metadata": {},
   "source": [
    "## Training the CNN Model"
   ]
  },
  {
   "cell_type": "code",
   "execution_count": 181,
   "id": "67c7e6bd",
   "metadata": {
    "scrolled": true
   },
   "outputs": [
    {
     "name": "stdout",
     "output_type": "stream",
     "text": [
      "Epoch 1/50\n",
      "15/15 [==============================] - 42s 3s/step - loss: 65.2940 - accuracy: 0.3473 - val_loss: 5.1388 - val_accuracy: 0.6078\n",
      "Epoch 2/50\n",
      "15/15 [==============================] - 37s 2s/step - loss: 8.9566 - accuracy: 0.5918 - val_loss: 1.6686 - val_accuracy: 0.6471\n",
      "Epoch 3/50\n",
      "15/15 [==============================] - 37s 2s/step - loss: 2.9363 - accuracy: 0.7698 - val_loss: 0.4307 - val_accuracy: 0.9020\n",
      "Epoch 4/50\n",
      "15/15 [==============================] - 37s 2s/step - loss: 0.8535 - accuracy: 0.8578 - val_loss: 0.6053 - val_accuracy: 0.9020\n",
      "Epoch 5/50\n",
      "15/15 [==============================] - 36s 2s/step - loss: 0.5252 - accuracy: 0.8826 - val_loss: 1.0102 - val_accuracy: 0.7255\n",
      "Epoch 6/50\n",
      "15/15 [==============================] - 38s 3s/step - loss: 0.3078 - accuracy: 0.8769 - val_loss: 0.9151 - val_accuracy: 0.8039\n",
      "Epoch 7/50\n",
      "15/15 [==============================] - 39s 3s/step - loss: 0.1166 - accuracy: 0.9502 - val_loss: 0.7802 - val_accuracy: 0.7647\n",
      "Epoch 8/50\n",
      "15/15 [==============================] - 37s 2s/step - loss: 0.1047 - accuracy: 0.9420 - val_loss: 0.7025 - val_accuracy: 0.8039\n",
      "Epoch 9/50\n",
      "15/15 [==============================] - 37s 3s/step - loss: 0.0767 - accuracy: 0.9746 - val_loss: 0.7373 - val_accuracy: 0.7647\n",
      "Epoch 10/50\n",
      "15/15 [==============================] - 36s 2s/step - loss: 0.0624 - accuracy: 0.9856 - val_loss: 0.6640 - val_accuracy: 0.7647\n",
      "Epoch 11/50\n",
      "15/15 [==============================] - 37s 2s/step - loss: 0.0393 - accuracy: 0.9885 - val_loss: 0.7059 - val_accuracy: 0.7451\n",
      "Epoch 12/50\n",
      "15/15 [==============================] - 36s 2s/step - loss: 0.0399 - accuracy: 0.9893 - val_loss: 0.6577 - val_accuracy: 0.7255\n",
      "Epoch 13/50\n",
      "15/15 [==============================] - 37s 2s/step - loss: 0.0418 - accuracy: 0.9836 - val_loss: 0.6569 - val_accuracy: 0.8235\n",
      "Epoch 14/50\n",
      "15/15 [==============================] - 36s 2s/step - loss: 0.0143 - accuracy: 1.0000 - val_loss: 0.6049 - val_accuracy: 0.8431\n",
      "Epoch 15/50\n",
      "15/15 [==============================] - 37s 2s/step - loss: 0.0132 - accuracy: 1.0000 - val_loss: 0.5394 - val_accuracy: 0.8627\n",
      "Epoch 16/50\n",
      "15/15 [==============================] - 37s 2s/step - loss: 0.0059 - accuracy: 0.9983 - val_loss: 0.5014 - val_accuracy: 0.8627\n",
      "Epoch 17/50\n",
      "15/15 [==============================] - 38s 3s/step - loss: 0.0043 - accuracy: 1.0000 - val_loss: 0.4679 - val_accuracy: 0.8627\n",
      "Epoch 18/50\n",
      "15/15 [==============================] - 38s 3s/step - loss: 0.0039 - accuracy: 1.0000 - val_loss: 0.4052 - val_accuracy: 0.8824\n",
      "Epoch 19/50\n",
      "15/15 [==============================] - 37s 2s/step - loss: 0.0171 - accuracy: 0.9916 - val_loss: 0.4902 - val_accuracy: 0.8235\n",
      "Epoch 20/50\n",
      "15/15 [==============================] - 37s 2s/step - loss: 0.0026 - accuracy: 1.0000 - val_loss: 0.4740 - val_accuracy: 0.8431\n",
      "Epoch 21/50\n",
      "15/15 [==============================] - 37s 2s/step - loss: 0.0040 - accuracy: 1.0000 - val_loss: 0.4139 - val_accuracy: 0.8824\n",
      "Epoch 22/50\n",
      "15/15 [==============================] - 37s 2s/step - loss: 0.0038 - accuracy: 1.0000 - val_loss: 0.4006 - val_accuracy: 0.8627\n",
      "Epoch 23/50\n",
      "15/15 [==============================] - 37s 2s/step - loss: 0.0023 - accuracy: 1.0000 - val_loss: 0.3678 - val_accuracy: 0.8824\n",
      "Epoch 24/50\n",
      "15/15 [==============================] - 37s 2s/step - loss: 0.0013 - accuracy: 1.0000 - val_loss: 0.3487 - val_accuracy: 0.8824\n",
      "Epoch 25/50\n",
      "15/15 [==============================] - 39s 3s/step - loss: 0.0017 - accuracy: 1.0000 - val_loss: 0.3113 - val_accuracy: 0.9020\n",
      "Epoch 26/50\n",
      "15/15 [==============================] - 40s 3s/step - loss: 7.6932e-04 - accuracy: 1.0000 - val_loss: 0.2931 - val_accuracy: 0.9020\n",
      "Epoch 27/50\n",
      "15/15 [==============================] - 37s 2s/step - loss: 5.6060e-04 - accuracy: 1.0000 - val_loss: 0.2835 - val_accuracy: 0.9020\n",
      "Epoch 28/50\n",
      "15/15 [==============================] - 37s 2s/step - loss: 9.8604e-04 - accuracy: 1.0000 - val_loss: 0.2825 - val_accuracy: 0.9020\n",
      "Epoch 29/50\n",
      "15/15 [==============================] - 37s 2s/step - loss: 4.9092e-04 - accuracy: 1.0000 - val_loss: 0.2740 - val_accuracy: 0.9020\n",
      "Epoch 30/50\n",
      "15/15 [==============================] - 37s 2s/step - loss: 0.0018 - accuracy: 1.0000 - val_loss: 0.2489 - val_accuracy: 0.9020\n",
      "Epoch 31/50\n",
      "15/15 [==============================] - 37s 2s/step - loss: 8.8031e-04 - accuracy: 1.0000 - val_loss: 0.2379 - val_accuracy: 0.9020\n",
      "Epoch 32/50\n",
      "15/15 [==============================] - 37s 2s/step - loss: 0.0022 - accuracy: 1.0000 - val_loss: 0.2578 - val_accuracy: 0.8824\n",
      "Epoch 33/50\n",
      "15/15 [==============================] - 37s 2s/step - loss: 0.0024 - accuracy: 1.0000 - val_loss: 0.2654 - val_accuracy: 0.8824\n",
      "Epoch 34/50\n",
      "15/15 [==============================] - 37s 2s/step - loss: 7.5599e-04 - accuracy: 1.0000 - val_loss: 0.2670 - val_accuracy: 0.9020\n",
      "Epoch 35/50\n",
      "15/15 [==============================] - 36s 2s/step - loss: 4.8570e-04 - accuracy: 1.0000 - val_loss: 0.2504 - val_accuracy: 0.9020\n",
      "Epoch 36/50\n",
      "15/15 [==============================] - 37s 2s/step - loss: 7.9595e-04 - accuracy: 1.0000 - val_loss: 0.2305 - val_accuracy: 0.9412\n",
      "Epoch 37/50\n",
      "15/15 [==============================] - 37s 2s/step - loss: 0.0011 - accuracy: 1.0000 - val_loss: 0.2340 - val_accuracy: 0.9216\n",
      "Epoch 38/50\n",
      "15/15 [==============================] - 38s 3s/step - loss: 1.7248e-04 - accuracy: 1.0000 - val_loss: 0.2290 - val_accuracy: 0.9020\n",
      "Epoch 39/50\n",
      "15/15 [==============================] - 38s 3s/step - loss: 1.9183e-04 - accuracy: 1.0000 - val_loss: 0.2272 - val_accuracy: 0.9020\n",
      "Epoch 40/50\n",
      "15/15 [==============================] - 39s 3s/step - loss: 4.3527e-04 - accuracy: 1.0000 - val_loss: 0.2146 - val_accuracy: 0.9020\n",
      "Epoch 41/50\n",
      "15/15 [==============================] - 37s 2s/step - loss: 3.8462e-04 - accuracy: 1.0000 - val_loss: 0.2183 - val_accuracy: 0.9216\n",
      "Epoch 42/50\n",
      "15/15 [==============================] - 37s 2s/step - loss: 0.0017 - accuracy: 1.0000 - val_loss: 0.2981 - val_accuracy: 0.8824\n",
      "Epoch 43/50\n",
      "15/15 [==============================] - 38s 3s/step - loss: 6.3319e-04 - accuracy: 1.0000 - val_loss: 0.2830 - val_accuracy: 0.8824\n",
      "Epoch 44/50\n",
      "15/15 [==============================] - 37s 2s/step - loss: 7.4554e-04 - accuracy: 1.0000 - val_loss: 0.2618 - val_accuracy: 0.8824\n",
      "Epoch 45/50\n",
      "15/15 [==============================] - 37s 2s/step - loss: 6.5771e-04 - accuracy: 1.0000 - val_loss: 0.2441 - val_accuracy: 0.8824\n",
      "Epoch 46/50\n",
      "15/15 [==============================] - 37s 2s/step - loss: 3.0204e-04 - accuracy: 1.0000 - val_loss: 0.2366 - val_accuracy: 0.8824\n",
      "Epoch 47/50\n",
      "15/15 [==============================] - 37s 2s/step - loss: 4.0024e-04 - accuracy: 1.0000 - val_loss: 0.2349 - val_accuracy: 0.8824\n",
      "Epoch 48/50\n",
      "15/15 [==============================] - 38s 3s/step - loss: 3.2574e-04 - accuracy: 1.0000 - val_loss: 0.2313 - val_accuracy: 0.9020\n",
      "Epoch 49/50\n",
      "15/15 [==============================] - 38s 3s/step - loss: 1.4214e-04 - accuracy: 1.0000 - val_loss: 0.2287 - val_accuracy: 0.9216\n",
      "Epoch 50/50\n",
      "15/15 [==============================] - 38s 3s/step - loss: 2.5988e-04 - accuracy: 1.0000 - val_loss: 0.2274 - val_accuracy: 0.9216\n"
     ]
    }
   ],
   "source": [
    "# Fit the model\n",
    "history = model.fit(X_train, y_train, batch_size=batch_size, epochs=epochs, validation_data=(X_val, y_val))"
   ]
  },
  {
   "cell_type": "markdown",
   "id": "527d0fa1",
   "metadata": {},
   "source": [
    "# Model Evaluation"
   ]
  },
  {
   "cell_type": "code",
   "execution_count": 182,
   "id": "64537307",
   "metadata": {},
   "outputs": [
    {
     "data": {
      "image/png": "[encoded data removed]",
      "text/plain": [
       "<Figure size 576x576 with 2 Axes>"
      ]
     },
     "metadata": {
      "needs_background": "light"
     },
     "output_type": "display_data"
    }
   ],
   "source": [
    "# Predict the values from the Testing dataset\n",
    "y_hat = model.predict(X_test)\n",
    "# Convert predictions classes to one hot vectors \n",
    "y_hat_classes = np.argmax(y_hat,axis = 1) \n",
    "# Convert testing observations to one hot vectors\n",
    "y_test = np.argmax(y_test,axis = 1) \n",
    "# compute the confusion matrix\n",
    "confusion_mtx = confusion_matrix(y_test, y_hat_classes) \n",
    "# plot the confusion matrix\n",
    "f,ax = plt.subplots(figsize=(8, 8))\n",
    "sns.heatmap(confusion_mtx, annot=True, linewidths=0.01,cmap=\"Greens\",linecolor=\"gray\", fmt= '.1f',ax=ax)\n",
    "plt.xlabel(\"Predicted Label\")\n",
    "plt.ylabel(\"True Label\")\n",
    "plt.title(\"Confusion Matrix\")\n",
    "plt.show()"
   ]
  },
  {
   "cell_type": "code",
   "execution_count": 189,
   "id": "39e3d8eb",
   "metadata": {},
   "outputs": [
    {
     "name": "stdout",
     "output_type": "stream",
     "text": [
      "Accuracy of the CNN: 92.4%\n"
     ]
    }
   ],
   "source": [
    "y_hat_classes = y_hat_classes.reshape((-1,1))\n",
    "y_test = y_test.reshape((-1,1))\n",
    "\n",
    "acc_scr = (round(accuracy_score(y_test, y_hat_classes), 3) * 100)\n",
    "print(f\"Accuracy of the CNN model: {acc_scr}%\")"
   ]
  },
  {
   "cell_type": "code",
   "execution_count": 193,
   "id": "50deb3ec",
   "metadata": {},
   "outputs": [
    {
     "name": "stdout",
     "output_type": "stream",
     "text": [
      "              precision    recall  f1-score   support\n",
      "\n",
      "           0       0.95      0.95      0.95        20\n",
      "           1       0.90      1.00      0.95        26\n",
      "           2       0.94      0.80      0.86        20\n",
      "\n",
      "    accuracy                           0.92        66\n",
      "   macro avg       0.93      0.92      0.92        66\n",
      "weighted avg       0.93      0.92      0.92        66\n",
      "\n"
     ]
    }
   ],
   "source": [
    "print(classification_report(y_test, y_hat_classes))"
   ]
  },
  {
   "cell_type": "markdown",
   "id": "76f6c112",
   "metadata": {},
   "source": [
    "# Model Summary"
   ]
  },
  {
   "cell_type": "code",
   "execution_count": 194,
   "id": "6a2726e9",
   "metadata": {},
   "outputs": [
    {
     "name": "stdout",
     "output_type": "stream",
     "text": [
      "Model: \"sequential_11\"\n",
      "_________________________________________________________________\n",
      "Layer (type)                 Output Shape              Param #   \n",
      "=================================================================\n",
      "conv2d_22 (Conv2D)           (None, 450, 450, 8)       208       \n",
      "_________________________________________________________________\n",
      "max_pooling2d_22 (MaxPooling (None, 225, 225, 8)       0         \n",
      "_________________________________________________________________\n",
      "dropout_33 (Dropout)         (None, 225, 225, 8)       0         \n",
      "_________________________________________________________________\n",
      "conv2d_23 (Conv2D)           (None, 225, 225, 16)      1168      \n",
      "_________________________________________________________________\n",
      "max_pooling2d_23 (MaxPooling (None, 112, 112, 16)      0         \n",
      "_________________________________________________________________\n",
      "dropout_34 (Dropout)         (None, 112, 112, 16)      0         \n",
      "_________________________________________________________________\n",
      "flatten_11 (Flatten)         (None, 200704)            0         \n",
      "_________________________________________________________________\n",
      "dense_22 (Dense)             (None, 900)               180634500 \n",
      "_________________________________________________________________\n",
      "dropout_35 (Dropout)         (None, 900)               0         \n",
      "_________________________________________________________________\n",
      "dense_23 (Dense)             (None, 3)                 2703      \n",
      "=================================================================\n",
      "Total params: 180,638,579\n",
      "Trainable params: 180,638,579\n",
      "Non-trainable params: 0\n",
      "_________________________________________________________________\n"
     ]
    }
   ],
   "source": [
    "model.summary()"
   ]
  },
  {
   "cell_type": "markdown",
   "id": "504fb1f4",
   "metadata": {},
   "source": [
    "# Saving the model to disk"
   ]
  },
  {
   "cell_type": "code",
   "execution_count": 205,
   "id": "b023c66a",
   "metadata": {},
   "outputs": [
    {
     "name": "stdout",
     "output_type": "stream",
     "text": [
      "INFO:tensorflow:Assets written to: Final Model/assets\n"
     ]
    }
   ],
   "source": [
    "model.save('Final Model/')"
   ]
  },
  {
   "cell_type": "code",
   "execution_count": null,
   "id": "ba06fdf3",
   "metadata": {},
   "outputs": [],
   "source": []
  }
 ],
 "metadata": {
  "kernelspec": {
   "display_name": "Python 3 (ipykernel)",
   "language": "python",
   "name": "python3"
  },
  "language_info": {
   "codemirror_mode": {
    "name": "ipython",
    "version": 3
   },
   "file_extension": ".py",
   "mimetype": "text/x-python",
   "name": "python",
   "nbconvert_exporter": "python",
   "pygments_lexer": "ipython3",
   "version": "3.9.12"
  }
 },
 "nbformat": 4,
 "nbformat_minor": 5
}
